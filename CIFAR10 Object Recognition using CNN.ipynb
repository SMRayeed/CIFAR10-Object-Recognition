{
  "nbformat": 4,
  "nbformat_minor": 0,
  "metadata": {
    "kernelspec": {
      "display_name": "Python 3",
      "language": "python",
      "name": "python3"
    },
    "language_info": {
      "codemirror_mode": {
        "name": "ipython",
        "version": 3
      },
      "file_extension": ".py",
      "mimetype": "text/x-python",
      "name": "python",
      "nbconvert_exporter": "python",
      "pygments_lexer": "ipython3",
      "version": "3.7.3"
    },
    "colab": {
      "name": "ML Project - Sample - CIFAR10 using CNN.ipynb",
      "provenance": [],
      "collapsed_sections": []
    }
  },
  "cells": [
    {
      "cell_type": "code",
      "metadata": {
        "id": "oTjSRU2cxILj",
        "colab_type": "code",
        "colab": {}
      },
      "source": [
        "from keras import datasets\n",
        "\n",
        "(cifar10_x_train, cifar10_y_train), (cifar10_x_test, cifar10_y_test) = datasets.cifar10.load_data()"
      ],
      "execution_count": 5,
      "outputs": []
    },
    {
      "cell_type": "code",
      "metadata": {
        "id": "Qu7TVddQxILn",
        "colab_type": "code",
        "colab": {}
      },
      "source": [
        "from keras import backend\n",
        "\n",
        "if backend.image_data_format() == 'channels_first' :\n",
        "    x_train = cifar10_x_train.reshape(cifar10_x_train.shape[0], 3, 32, 32)\n",
        "    x_test = cifar10_x_test.reshape(cifar10_x_test.shape[0], 3, 32, 32)\n",
        "    input_shape = (3, 32, 32)\n",
        "\n",
        "else:\n",
        "    x_train = cifar10_x_train.reshape(cifar10_x_train.shape[0], 32, 32, 3)\n",
        "    x_test = cifar10_x_test.reshape(cifar10_x_test.shape[0], 32, 32, 3)\n",
        "    input_shape = (32, 32, 3)\n",
        "    \n",
        "x_train = x_train.astype('float32')\n",
        "x_test = x_test.astype('float32')\n",
        "\n",
        "x_train /= 255\n",
        "x_test /= 255"
      ],
      "execution_count": 15,
      "outputs": []
    },
    {
      "cell_type": "code",
      "metadata": {
        "id": "VinsSt6jxILr",
        "colab_type": "code",
        "colab": {}
      },
      "source": [
        "from keras import utils as utilities\n",
        "\n",
        "y_train = utilities.to_categorical(cifar10_y_train, 10)\n",
        "y_test = utilities.to_categorical(cifar10_y_test, 10)"
      ],
      "execution_count": 17,
      "outputs": []
    },
    {
      "cell_type": "code",
      "metadata": {
        "id": "gl88zKMIBCtb",
        "colab_type": "code",
        "colab": {}
      },
      "source": [
        "from keras.models import Sequential\n",
        "from keras.layers import Dense\n",
        "from keras.layers import Dropout\n",
        "from keras.layers import Conv2D\n",
        "from keras.layers import MaxPooling2D\n",
        "from keras.layers import Flatten"
      ],
      "execution_count": 94,
      "outputs": []
    },
    {
      "cell_type": "code",
      "metadata": {
        "id": "YsdgqTICxILz",
        "colab_type": "code",
        "colab": {}
      },
      "source": [
        "model = Sequential()\n",
        "\n",
        "model.add(Conv2D(32, (3, 3) , activation = 'relu' , padding='same', input_shape = input_shape))\n",
        "model.add(Conv2D(64, (3, 3), activation = 'relu', padding='same'))\n",
        "model.add(MaxPooling2D(pool_size=(2, 2)))\n",
        "model.add(Dropout(0.25))\n",
        "\n",
        "model.add(Conv2D(64, (3, 3) , activation = 'relu' , padding='same', input_shape = input_shape))\n",
        "model.add(Conv2D(128, (3, 3), activation = 'relu', padding='same'))\n",
        "model.add(MaxPooling2D(pool_size=(2, 2)))\n",
        "model.add(Dropout(0.25))\n",
        "\n",
        "model.add(Conv2D(128, (3, 3), activation = 'relu', padding='same'))\n",
        "model.add(Conv2D(256, (3, 3) , activation = 'relu', padding='same'))\n",
        "model.add(MaxPooling2D(pool_size=(2, 2)))\n",
        "model.add(Dropout(0.25))\n",
        "\n",
        "model.add(Flatten())\n",
        "\n",
        "model.add(Dense(units = 512, activation = 'relu'))\n",
        "model.add(Dropout(0.25))\n",
        "\n",
        "model.add(Dense(units = 10, activation = 'softmax'))"
      ],
      "execution_count": 95,
      "outputs": []
    },
    {
      "cell_type": "code",
      "metadata": {
        "id": "25BoTxOjxIL_",
        "colab_type": "code",
        "colab": {}
      },
      "source": [
        "model.compile(loss='categorical_crossentropy', optimizer='adam', metrics=['accuracy'])"
      ],
      "execution_count": 96,
      "outputs": []
    },
    {
      "cell_type": "code",
      "metadata": {
        "id": "UPLEqMZ7xIMC",
        "colab_type": "code",
        "colab": {
          "base_uri": "https://localhost:8080/",
          "height": 370
        },
        "outputId": "2b420cc7-4fe5-4e12-e3cf-28ac0c69279a"
      },
      "source": [
        "model.fit(x_train, y_train, batch_size=32, epochs=10)"
      ],
      "execution_count": 98,
      "outputs": [
        {
          "output_type": "stream",
          "text": [
            "Epoch 1/10\n",
            "1563/1563 [==============================] - 560s 358ms/step - loss: 1.5427 - accuracy: 0.4341\n",
            "Epoch 2/10\n",
            "1563/1563 [==============================] - 560s 358ms/step - loss: 1.0867 - accuracy: 0.6103\n",
            "Epoch 3/10\n",
            "1563/1563 [==============================] - 557s 357ms/step - loss: 0.9137 - accuracy: 0.6796\n",
            "Epoch 4/10\n",
            "1563/1563 [==============================] - 560s 359ms/step - loss: 0.8071 - accuracy: 0.7160\n",
            "Epoch 5/10\n",
            "1563/1563 [==============================] - 560s 359ms/step - loss: 0.7440 - accuracy: 0.7390\n",
            "Epoch 6/10\n",
            "1563/1563 [==============================] - 561s 359ms/step - loss: 0.6884 - accuracy: 0.7573\n",
            "Epoch 7/10\n",
            "1563/1563 [==============================] - 561s 359ms/step - loss: 0.6529 - accuracy: 0.7716\n",
            "Epoch 8/10\n",
            "1563/1563 [==============================] - 561s 359ms/step - loss: 0.6167 - accuracy: 0.7853\n",
            "Epoch 9/10\n",
            "1563/1563 [==============================] - 561s 359ms/step - loss: 0.5853 - accuracy: 0.7947\n",
            "Epoch 10/10\n",
            "1563/1563 [==============================] - 561s 359ms/step - loss: 0.5659 - accuracy: 0.8010\n"
          ],
          "name": "stdout"
        },
        {
          "output_type": "execute_result",
          "data": {
            "text/plain": [
              "<tensorflow.python.keras.callbacks.History at 0x7f464ed47518>"
            ]
          },
          "metadata": {
            "tags": []
          },
          "execution_count": 98
        }
      ]
    },
    {
      "cell_type": "code",
      "metadata": {
        "id": "HH26nq6N_pCt",
        "colab_type": "code",
        "colab": {}
      },
      "source": [
        "model.save('CIFAR10_CNN_Model.h5') "
      ],
      "execution_count": 99,
      "outputs": []
    },
    {
      "cell_type": "code",
      "metadata": {
        "id": "QeqhgxiyxIMI",
        "colab_type": "code",
        "colab": {
          "base_uri": "https://localhost:8080/",
          "height": 67
        },
        "outputId": "676927f0-1e77-4acc-e236-01b8c6a67f11"
      },
      "source": [
        "results = model.evaluate(x_test, y_test, batch_size=32)\n",
        "\n",
        "loss = results[0]*100\n",
        "accuracy = results[1]*100\n",
        "\n",
        "print(\"Test loss : %.2f\" % loss, '%')\n",
        "print('Test accuracy : %.2f' % accuracy, '%')"
      ],
      "execution_count": 102,
      "outputs": [
        {
          "output_type": "stream",
          "text": [
            "313/313 [==============================] - 24s 75ms/step - loss: 0.6753 - accuracy: 0.7757\n",
            "Test loss : 67.53 %\n",
            "Test accuracy : 77.57 %\n"
          ],
          "name": "stdout"
        }
      ]
    }
  ]
}